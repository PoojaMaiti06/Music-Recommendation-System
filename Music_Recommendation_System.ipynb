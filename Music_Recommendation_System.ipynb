{
  "nbformat": 4,
  "nbformat_minor": 0,
  "metadata": {
    "colab": {
      "provenance": []
    },
    "kernelspec": {
      "name": "python3",
      "display_name": "Python 3"
    },
    "language_info": {
      "name": "python"
    }
  },
  "cells": [
    {
      "cell_type": "code",
      "execution_count": null,
      "metadata": {
        "id": "81DEKCvdF7VS"
      },
      "outputs": [],
      "source": [
        "import pandas as pd"
      ]
    },
    {
      "cell_type": "code",
      "source": [
        "df = pd.read_csv('spotify_millsongdata.csv')"
      ],
      "metadata": {
        "id": "vTZrea88GFnr"
      },
      "execution_count": null,
      "outputs": []
    },
    {
      "cell_type": "code",
      "source": [
        "df.shape"
      ],
      "metadata": {
        "id": "VNTj-se0RJWT",
        "outputId": "a1864ecd-035b-4260-ee1f-a30916131707",
        "colab": {
          "base_uri": "https://localhost:8080/"
        }
      },
      "execution_count": null,
      "outputs": [
        {
          "output_type": "execute_result",
          "data": {
            "text/plain": [
              "(57650, 4)"
            ]
          },
          "metadata": {},
          "execution_count": 72
        }
      ]
    },
    {
      "cell_type": "code",
      "source": [
        "df = df.sample(5000).drop('link', axis=1).reset_index(drop=True)"
      ],
      "metadata": {
        "id": "JP--1ckzxmhf"
      },
      "execution_count": null,
      "outputs": []
    },
    {
      "cell_type": "code",
      "source": [
        "df['text'][0]"
      ],
      "metadata": {
        "colab": {
          "base_uri": "https://localhost:8080/",
          "height": 244
        },
        "id": "ebHN5-o6zTPd",
        "outputId": "b40359dd-9b1e-4358-8ece-c32b460c1692"
      },
      "execution_count": null,
      "outputs": [
        {
          "output_type": "execute_result",
          "data": {
            "text/plain": [
              "\"I'm dancing like a mad man  \\r\\nI hope she likes-a me  \\r\\nThe chance to be just on my own  \\r\\nI want to silly be  \\r\\n  \\r\\nThe club is full of people  \\r\\nPerhaps they think I'm mad  \\r\\nI close my eyes and I go home  \\r\\nI feel a little sad  \\r\\n  \\r\\n[Chorus]  \\r\\nI just can't dance  \\r\\nMy only chance  \\r\\n  \\r\\nI'm shy, shy, oh so shy  \\r\\n  \\r\\nThe girls don't like the way I move  \\r\\nI think at times I've lost it  \\r\\nDo I look like I can't move  \\r\\nOr do I move exhausted  \\r\\n  \\r\\nIf I just knew she loves me  \\r\\nI know I wouldn't care  \\r\\nBut she talks to the barman  \\r\\nAnd I think that's unfair  \\r\\n  \\r\\n[Chorus]  \\r\\n  \\r\\nI'm sad, sad, oh so sad  \\r\\n  \\r\\nAnd now that girl moves close to me  \\r\\nI join into her move  \\r\\nPretending I enjoy it  \\r\\nAnd now I lost the groove  \\r\\n  \\r\\nOne guy stands tho', between us  \\r\\nShows up with all his power  \\r\\nI now feel like an idiot  \\r\\nWho stands in a cold shower  \\r\\n  \\r\\n[Chorus]  \\r\\n  \\r\\nThe barman stares at me  \\r\\nSo? So drink  \\r\\nThen turns around  \\r\\nAnd pours a wink  \\r\\n  \\r\\nI move away  \\r\\nBut play it cool  \\r\\nI think she's right  \\r\\nI'm just a fool  \\r\\n  \\r\\n[Chorus]  \\r\\n  \\r\\nI'm shy, shy, oh so shy\\r\\n\\r\\n\""
            ],
            "application/vnd.google.colaboratory.intrinsic+json": {
              "type": "string"
            }
          },
          "metadata": {},
          "execution_count": 75
        }
      ]
    },
    {
      "cell_type": "code",
      "source": [
        "#df = df.sample(5000)"
      ],
      "metadata": {
        "id": "yIVQkZ8Izmht"
      },
      "execution_count": null,
      "outputs": []
    },
    {
      "cell_type": "code",
      "source": [
        "df.shape"
      ],
      "metadata": {
        "colab": {
          "base_uri": "https://localhost:8080/"
        },
        "id": "kOrlTwvAz1v8",
        "outputId": "c9b338f0-3e99-4e14-c5d9-eb8688842e1d"
      },
      "execution_count": null,
      "outputs": [
        {
          "output_type": "execute_result",
          "data": {
            "text/plain": [
              "(5000, 3)"
            ]
          },
          "metadata": {},
          "execution_count": 77
        }
      ]
    },
    {
      "cell_type": "code",
      "source": [
        "#Text Cleaning\n",
        "df['text'] = df['text'].str.lower().replace(r'^\\w\\s', ' ').replace(r'\\n', ' ', regex = True)"
      ],
      "metadata": {
        "id": "esBjZztAz7WL"
      },
      "execution_count": null,
      "outputs": []
    },
    {
      "cell_type": "code",
      "source": [
        "import nltk\n",
        "from nltk.stem.porter import PorterStemmer\n",
        "stemmer = PorterStemmer()\n",
        "nltk.download('punkt')\n",
        "\n",
        "def tokenization(txt):\n",
        "    tokens = nltk.word_tokenize(txt)\n",
        "    stemming = [stemmer.stem(w) for w in tokens]\n",
        "    return \" \".join(stemming)"
      ],
      "metadata": {
        "colab": {
          "base_uri": "https://localhost:8080/"
        },
        "id": "rnTKIFro4aRd",
        "outputId": "f09b8e12-b999-4a60-b402-e3680105e471"
      },
      "execution_count": null,
      "outputs": [
        {
          "output_type": "stream",
          "name": "stderr",
          "text": [
            "[nltk_data] Downloading package punkt to /root/nltk_data...\n",
            "[nltk_data]   Package punkt is already up-to-date!\n"
          ]
        }
      ]
    },
    {
      "cell_type": "code",
      "source": [
        "df['text'] = df['text'].apply(lambda x: tokenization(x))"
      ],
      "metadata": {
        "id": "YAOH-AsH4fX1"
      },
      "execution_count": null,
      "outputs": []
    },
    {
      "cell_type": "code",
      "source": [
        "token(\"you are beautiful\")"
      ],
      "metadata": {
        "colab": {
          "base_uri": "https://localhost:8080/",
          "height": 35
        },
        "id": "Y5S1hq726aNp",
        "outputId": "e1ab8654-20ff-48c8-8f4e-74d59531cb42"
      },
      "execution_count": null,
      "outputs": [
        {
          "output_type": "execute_result",
          "data": {
            "text/plain": [
              "'you are beauti'"
            ],
            "application/vnd.google.colaboratory.intrinsic+json": {
              "type": "string"
            }
          },
          "metadata": {},
          "execution_count": 83
        }
      ]
    },
    {
      "cell_type": "code",
      "source": [
        "from sklearn.feature_extraction.text import TfidfVectorizer\n",
        "from sklearn.metrics.pairwise import cosine_similarity"
      ],
      "metadata": {
        "id": "KTjWiaDB6EYY"
      },
      "execution_count": null,
      "outputs": []
    },
    {
      "cell_type": "code",
      "source": [
        "tfid = TfidfVectorizer(analyzer='word', stop_words='english')"
      ],
      "metadata": {
        "id": "6oQwAMx26vjC"
      },
      "execution_count": null,
      "outputs": []
    },
    {
      "cell_type": "code",
      "source": [
        "matrix = tfid.fit_transform(df['text'])"
      ],
      "metadata": {
        "id": "7WsNQy9V7HmH"
      },
      "execution_count": null,
      "outputs": []
    },
    {
      "cell_type": "code",
      "source": [
        "matrix"
      ],
      "metadata": {
        "colab": {
          "base_uri": "https://localhost:8080/"
        },
        "id": "88nU0atP7SjL",
        "outputId": "5324758e-398a-4c43-f669-435e9cb7b4c7"
      },
      "execution_count": null,
      "outputs": [
        {
          "output_type": "execute_result",
          "data": {
            "text/plain": [
              "<5000x17516 sparse matrix of type '<class 'numpy.float64'>'\n",
              "\twith 278004 stored elements in Compressed Sparse Row format>"
            ]
          },
          "metadata": {},
          "execution_count": 87
        }
      ]
    },
    {
      "cell_type": "code",
      "source": [
        "similar = cosine_similarity(matrix)"
      ],
      "metadata": {
        "id": "eJ780eMk7XfA"
      },
      "execution_count": null,
      "outputs": []
    },
    {
      "cell_type": "code",
      "source": [
        "similar[0]"
      ],
      "metadata": {
        "colab": {
          "base_uri": "https://localhost:8080/"
        },
        "id": "EOPrnocL7ovu",
        "outputId": "4fb5fdce-ab73-4cc6-ed97-2d5a577828e5"
      },
      "execution_count": null,
      "outputs": [
        {
          "output_type": "execute_result",
          "data": {
            "text/plain": [
              "array([1.        , 0.03318646, 0.01800696, ..., 0.02409376, 0.04448143,\n",
              "       0.01430884])"
            ]
          },
          "metadata": {},
          "execution_count": 89
        }
      ]
    },
    {
      "cell_type": "code",
      "source": [
        "df.head(2)"
      ],
      "metadata": {
        "colab": {
          "base_uri": "https://localhost:8080/",
          "height": 112
        },
        "id": "BCXsFCFt_a84",
        "outputId": "016847a6-9a17-44d2-85bb-cbb43a779db1"
      },
      "execution_count": null,
      "outputs": [
        {
          "output_type": "execute_result",
          "data": {
            "text/plain": [
              "  artist                   song  \\\n",
              "0  Yello              Rock Stop   \n",
              "1  Doors  When The Music's Over   \n",
              "\n",
              "                                                text  \n",
              "0  i 'm danc like a mad man i hope she likes-a me...  \n",
              "1  yeah , c'mon when the music 's over when the m...  "
            ],
            "text/html": [
              "\n",
              "  <div id=\"df-f15e92f7-47b6-48bd-ad3c-3ca8b376b305\" class=\"colab-df-container\">\n",
              "    <div>\n",
              "<style scoped>\n",
              "    .dataframe tbody tr th:only-of-type {\n",
              "        vertical-align: middle;\n",
              "    }\n",
              "\n",
              "    .dataframe tbody tr th {\n",
              "        vertical-align: top;\n",
              "    }\n",
              "\n",
              "    .dataframe thead th {\n",
              "        text-align: right;\n",
              "    }\n",
              "</style>\n",
              "<table border=\"1\" class=\"dataframe\">\n",
              "  <thead>\n",
              "    <tr style=\"text-align: right;\">\n",
              "      <th></th>\n",
              "      <th>artist</th>\n",
              "      <th>song</th>\n",
              "      <th>text</th>\n",
              "    </tr>\n",
              "  </thead>\n",
              "  <tbody>\n",
              "    <tr>\n",
              "      <th>0</th>\n",
              "      <td>Yello</td>\n",
              "      <td>Rock Stop</td>\n",
              "      <td>i 'm danc like a mad man i hope she likes-a me...</td>\n",
              "    </tr>\n",
              "    <tr>\n",
              "      <th>1</th>\n",
              "      <td>Doors</td>\n",
              "      <td>When The Music's Over</td>\n",
              "      <td>yeah , c'mon when the music 's over when the m...</td>\n",
              "    </tr>\n",
              "  </tbody>\n",
              "</table>\n",
              "</div>\n",
              "    <div class=\"colab-df-buttons\">\n",
              "\n",
              "  <div class=\"colab-df-container\">\n",
              "    <button class=\"colab-df-convert\" onclick=\"convertToInteractive('df-f15e92f7-47b6-48bd-ad3c-3ca8b376b305')\"\n",
              "            title=\"Convert this dataframe to an interactive table.\"\n",
              "            style=\"display:none;\">\n",
              "\n",
              "  <svg xmlns=\"http://www.w3.org/2000/svg\" height=\"24px\" viewBox=\"0 -960 960 960\">\n",
              "    <path d=\"M120-120v-720h720v720H120Zm60-500h600v-160H180v160Zm220 220h160v-160H400v160Zm0 220h160v-160H400v160ZM180-400h160v-160H180v160Zm440 0h160v-160H620v160ZM180-180h160v-160H180v160Zm440 0h160v-160H620v160Z\"/>\n",
              "  </svg>\n",
              "    </button>\n",
              "\n",
              "  <style>\n",
              "    .colab-df-container {\n",
              "      display:flex;\n",
              "      gap: 12px;\n",
              "    }\n",
              "\n",
              "    .colab-df-convert {\n",
              "      background-color: #E8F0FE;\n",
              "      border: none;\n",
              "      border-radius: 50%;\n",
              "      cursor: pointer;\n",
              "      display: none;\n",
              "      fill: #1967D2;\n",
              "      height: 32px;\n",
              "      padding: 0 0 0 0;\n",
              "      width: 32px;\n",
              "    }\n",
              "\n",
              "    .colab-df-convert:hover {\n",
              "      background-color: #E2EBFA;\n",
              "      box-shadow: 0px 1px 2px rgba(60, 64, 67, 0.3), 0px 1px 3px 1px rgba(60, 64, 67, 0.15);\n",
              "      fill: #174EA6;\n",
              "    }\n",
              "\n",
              "    .colab-df-buttons div {\n",
              "      margin-bottom: 4px;\n",
              "    }\n",
              "\n",
              "    [theme=dark] .colab-df-convert {\n",
              "      background-color: #3B4455;\n",
              "      fill: #D2E3FC;\n",
              "    }\n",
              "\n",
              "    [theme=dark] .colab-df-convert:hover {\n",
              "      background-color: #434B5C;\n",
              "      box-shadow: 0px 1px 3px 1px rgba(0, 0, 0, 0.15);\n",
              "      filter: drop-shadow(0px 1px 2px rgba(0, 0, 0, 0.3));\n",
              "      fill: #FFFFFF;\n",
              "    }\n",
              "  </style>\n",
              "\n",
              "    <script>\n",
              "      const buttonEl =\n",
              "        document.querySelector('#df-f15e92f7-47b6-48bd-ad3c-3ca8b376b305 button.colab-df-convert');\n",
              "      buttonEl.style.display =\n",
              "        google.colab.kernel.accessAllowed ? 'block' : 'none';\n",
              "\n",
              "      async function convertToInteractive(key) {\n",
              "        const element = document.querySelector('#df-f15e92f7-47b6-48bd-ad3c-3ca8b376b305');\n",
              "        const dataTable =\n",
              "          await google.colab.kernel.invokeFunction('convertToInteractive',\n",
              "                                                    [key], {});\n",
              "        if (!dataTable) return;\n",
              "\n",
              "        const docLinkHtml = 'Like what you see? Visit the ' +\n",
              "          '<a target=\"_blank\" href=https://colab.research.google.com/notebooks/data_table.ipynb>data table notebook</a>'\n",
              "          + ' to learn more about interactive tables.';\n",
              "        element.innerHTML = '';\n",
              "        dataTable['output_type'] = 'display_data';\n",
              "        await google.colab.output.renderOutput(dataTable, element);\n",
              "        const docLink = document.createElement('div');\n",
              "        docLink.innerHTML = docLinkHtml;\n",
              "        element.appendChild(docLink);\n",
              "      }\n",
              "    </script>\n",
              "  </div>\n",
              "\n",
              "\n",
              "<div id=\"df-022f9a05-6389-49ef-b861-678ae86c53dc\">\n",
              "  <button class=\"colab-df-quickchart\" onclick=\"quickchart('df-022f9a05-6389-49ef-b861-678ae86c53dc')\"\n",
              "            title=\"Suggest charts\"\n",
              "            style=\"display:none;\">\n",
              "\n",
              "<svg xmlns=\"http://www.w3.org/2000/svg\" height=\"24px\"viewBox=\"0 0 24 24\"\n",
              "     width=\"24px\">\n",
              "    <g>\n",
              "        <path d=\"M19 3H5c-1.1 0-2 .9-2 2v14c0 1.1.9 2 2 2h14c1.1 0 2-.9 2-2V5c0-1.1-.9-2-2-2zM9 17H7v-7h2v7zm4 0h-2V7h2v10zm4 0h-2v-4h2v4z\"/>\n",
              "    </g>\n",
              "</svg>\n",
              "  </button>\n",
              "\n",
              "<style>\n",
              "  .colab-df-quickchart {\n",
              "      --bg-color: #E8F0FE;\n",
              "      --fill-color: #1967D2;\n",
              "      --hover-bg-color: #E2EBFA;\n",
              "      --hover-fill-color: #174EA6;\n",
              "      --disabled-fill-color: #AAA;\n",
              "      --disabled-bg-color: #DDD;\n",
              "  }\n",
              "\n",
              "  [theme=dark] .colab-df-quickchart {\n",
              "      --bg-color: #3B4455;\n",
              "      --fill-color: #D2E3FC;\n",
              "      --hover-bg-color: #434B5C;\n",
              "      --hover-fill-color: #FFFFFF;\n",
              "      --disabled-bg-color: #3B4455;\n",
              "      --disabled-fill-color: #666;\n",
              "  }\n",
              "\n",
              "  .colab-df-quickchart {\n",
              "    background-color: var(--bg-color);\n",
              "    border: none;\n",
              "    border-radius: 50%;\n",
              "    cursor: pointer;\n",
              "    display: none;\n",
              "    fill: var(--fill-color);\n",
              "    height: 32px;\n",
              "    padding: 0;\n",
              "    width: 32px;\n",
              "  }\n",
              "\n",
              "  .colab-df-quickchart:hover {\n",
              "    background-color: var(--hover-bg-color);\n",
              "    box-shadow: 0 1px 2px rgba(60, 64, 67, 0.3), 0 1px 3px 1px rgba(60, 64, 67, 0.15);\n",
              "    fill: var(--button-hover-fill-color);\n",
              "  }\n",
              "\n",
              "  .colab-df-quickchart-complete:disabled,\n",
              "  .colab-df-quickchart-complete:disabled:hover {\n",
              "    background-color: var(--disabled-bg-color);\n",
              "    fill: var(--disabled-fill-color);\n",
              "    box-shadow: none;\n",
              "  }\n",
              "\n",
              "  .colab-df-spinner {\n",
              "    border: 2px solid var(--fill-color);\n",
              "    border-color: transparent;\n",
              "    border-bottom-color: var(--fill-color);\n",
              "    animation:\n",
              "      spin 1s steps(1) infinite;\n",
              "  }\n",
              "\n",
              "  @keyframes spin {\n",
              "    0% {\n",
              "      border-color: transparent;\n",
              "      border-bottom-color: var(--fill-color);\n",
              "      border-left-color: var(--fill-color);\n",
              "    }\n",
              "    20% {\n",
              "      border-color: transparent;\n",
              "      border-left-color: var(--fill-color);\n",
              "      border-top-color: var(--fill-color);\n",
              "    }\n",
              "    30% {\n",
              "      border-color: transparent;\n",
              "      border-left-color: var(--fill-color);\n",
              "      border-top-color: var(--fill-color);\n",
              "      border-right-color: var(--fill-color);\n",
              "    }\n",
              "    40% {\n",
              "      border-color: transparent;\n",
              "      border-right-color: var(--fill-color);\n",
              "      border-top-color: var(--fill-color);\n",
              "    }\n",
              "    60% {\n",
              "      border-color: transparent;\n",
              "      border-right-color: var(--fill-color);\n",
              "    }\n",
              "    80% {\n",
              "      border-color: transparent;\n",
              "      border-right-color: var(--fill-color);\n",
              "      border-bottom-color: var(--fill-color);\n",
              "    }\n",
              "    90% {\n",
              "      border-color: transparent;\n",
              "      border-bottom-color: var(--fill-color);\n",
              "    }\n",
              "  }\n",
              "</style>\n",
              "\n",
              "  <script>\n",
              "    async function quickchart(key) {\n",
              "      const quickchartButtonEl =\n",
              "        document.querySelector('#' + key + ' button');\n",
              "      quickchartButtonEl.disabled = true;  // To prevent multiple clicks.\n",
              "      quickchartButtonEl.classList.add('colab-df-spinner');\n",
              "      try {\n",
              "        const charts = await google.colab.kernel.invokeFunction(\n",
              "            'suggestCharts', [key], {});\n",
              "      } catch (error) {\n",
              "        console.error('Error during call to suggestCharts:', error);\n",
              "      }\n",
              "      quickchartButtonEl.classList.remove('colab-df-spinner');\n",
              "      quickchartButtonEl.classList.add('colab-df-quickchart-complete');\n",
              "    }\n",
              "    (() => {\n",
              "      let quickchartButtonEl =\n",
              "        document.querySelector('#df-022f9a05-6389-49ef-b861-678ae86c53dc button');\n",
              "      quickchartButtonEl.style.display =\n",
              "        google.colab.kernel.accessAllowed ? 'block' : 'none';\n",
              "    })();\n",
              "  </script>\n",
              "</div>\n",
              "\n",
              "    </div>\n",
              "  </div>\n"
            ],
            "application/vnd.google.colaboratory.intrinsic+json": {
              "type": "dataframe",
              "variable_name": "df",
              "summary": "{\n  \"name\": \"df\",\n  \"rows\": 5000,\n  \"fields\": [\n    {\n      \"column\": \"artist\",\n      \"properties\": {\n        \"dtype\": \"category\",\n        \"num_unique_values\": 606,\n        \"samples\": [\n          \"Tool\",\n          \"Conway Twitty\",\n          \"Z-Ro\"\n        ],\n        \"semantic_type\": \"\",\n        \"description\": \"\"\n      }\n    },\n    {\n      \"column\": \"song\",\n      \"properties\": {\n        \"dtype\": \"string\",\n        \"num_unique_values\": 4798,\n        \"samples\": [\n          \"Are We There Yet\",\n          \"Hopelessly Devoted To You\",\n          \"Reasons To Lie\"\n        ],\n        \"semantic_type\": \"\",\n        \"description\": \"\"\n      }\n    },\n    {\n      \"column\": \"text\",\n      \"properties\": {\n        \"dtype\": \"string\",\n        \"num_unique_values\": 4999,\n        \"samples\": [\n          \"you stand around the edg lookin ' tip-top , but you forget that when i look at you babi i see so much more you could do oh , come to me you 'd look good in compani and your wish is my command all you got to do is take my hand come to me , come to me do n't you understand that bodi wa made for dancin ' so follow me down thi way come on , now twist it turn it , turn it push it , burn it , burn it made for dancin ' total design to shake so come on , now twist it turn it , turn it push it , burn it , burn it dress up , look the part tie your name up on my heart do n't be so shi about it do n't get uptight about it move close , ca n't you see you know you 're gon na feel good next to me caus oh , oh , do n't you know that bodi wa made for dancin ' so follow me down thi way come on , now twist it turn it , turn it push it , burn it , burn it made for dancin ' total design to shake so come on , now twist it turn it , turn it push it , burn it , burn it danc for royalti famou on the disco scene royalti unwav be my king or queen king or queen famou on the disco scene danc floor royalti that 's what you are to me i salut you that bodi wa made for dancin ' so follow me down thi way come on , now twist it turn it , turn it push it , burn it , burn it made for dancin ' total design to shake so come on , now twist it turn it , turn it push it , burn it , burn it danc floor royalti famou on the disco scene royalti unwav be my king or queen\",\n          \"we hit the blue field in the blue sedan we did n't get much further just as the sun wa rise in the mist we were all alon we did n't need much more so fast thi expidit so vast thi heavi load with a touch of luck and a sens of need see the gun and their face we look around the open shore wait for someth shoot high break low aim high shoot low break high let go shoot high aim low thi wa to be our last ride with the steel guitar and the love you give me underneath the skin a feel , a breakdown well we sat for hour on the crimson sand exchang in the currenc of human bought and sold and the leader seem to lose control shall we lose ourselv for a reason shall we burn ourselv for the answer have we found the place that we 're look for someon shout `` open the door '' lookout shoot high break low aim high shoot low feel of imagin break high let go shoot high aim low shoot high aim low noth you can say shoot high let go take me by surpris shoot high aim low who say 's there 's got to be a reason shoot high let go who say there 's got to be an answer we were all alon , we did n't need much more shoot high aim low the sun 's so hard on thi endless highway shoot high let go shoot high aim low i 've heard the singer , who sing of love shoot high let go in the blue sedan we never got much further shoot high aim low\",\n          \"i took my babi on a saturday bang boy is that girl with you ye we 're one and the same now i believ in miracl and a miracl ha happen tonight but , if you 're thinkin ' about my babi it do n't matter if you 're black or white they print my messag in the saturday sun i had to tell them i ai n't second to none and i told about equal and it 's true either you 're wrong or you 're right but , if you 're thinkin ' about my babi it do n't matter if you 're black or white i am tire of thi devil i am tire of thi stuff i am tire of thi busi sew when the go get rough i ai n't scare of your brother i ain't scare of no sheet i ai n't scare of nobodi girl when the goin ' get mean protect for gang , club , and nation caus grief in human relat it 's a turf war on a global scale i 'd rather hear both side of the tale see , it 's not about race just place face where your blood come from is were your space is i 've seen the bright get duller i 'm not go to spend my life be a color do n't tell me you agre with me when i saw you kick dirt in my eye but , if you 're thinkin ' about my babi it do n't matter if you 're black or white i said if you 're thinkin ' of be my babi it do n't matter if you 're black or white i said if you 're thinkin ' of be my brother it do n't matter if you 're black or white ooh , ooh yea , yea , yea now ooh , ooh yea , yea , yea now it 's black , it 's white it 's tough for them to get by it 's black , it 's white , ( x3 ) whoo\"\n        ],\n        \"semantic_type\": \"\",\n        \"description\": \"\"\n      }\n    }\n  ]\n}"
            }
          },
          "metadata": {},
          "execution_count": 93
        }
      ]
    },
    {
      "cell_type": "code",
      "source": [
        "df[df['song']==\"Rock Stop\"].index[0]"
      ],
      "metadata": {
        "colab": {
          "base_uri": "https://localhost:8080/"
        },
        "id": "kz_W0UEY7zfL",
        "outputId": "bef1125a-740e-4c19-a1df-bf62dc28113e"
      },
      "execution_count": null,
      "outputs": [
        {
          "output_type": "execute_result",
          "data": {
            "text/plain": [
              "0"
            ]
          },
          "metadata": {},
          "execution_count": 94
        }
      ]
    },
    {
      "cell_type": "code",
      "source": [
        "#Recommender Function\n",
        "def recommender(song_name):\n",
        "    idx = df[df['song']==song_name].index[0]\n",
        "    distance = sorted(list(enumerate(similar[idx])), reverse=True, key = lambda x:x[1])\n",
        "    song = []\n",
        "    for s_id in distance[1:5]:\n",
        "        song.append(df.iloc[s_id[0]].song)\n",
        "    return song\n"
      ],
      "metadata": {
        "id": "gQSU1XI58iTi"
      },
      "execution_count": null,
      "outputs": []
    },
    {
      "cell_type": "code",
      "source": [
        "recommender(\"Rock Stop\")"
      ],
      "metadata": {
        "colab": {
          "base_uri": "https://localhost:8080/"
        },
        "id": "Jq1Wnq1X9zX1",
        "outputId": "d519115a-250b-4692-8ac9-edaf5b7556fe"
      },
      "execution_count": null,
      "outputs": [
        {
          "output_type": "execute_result",
          "data": {
            "text/plain": [
              "[\"I'm A Shy Guy\", 'Above Ground', 'How Will I Know', 'Dance']"
            ]
          },
          "metadata": {},
          "execution_count": 95
        }
      ]
    },
    {
      "cell_type": "code",
      "source": [
        "import pickle\n",
        "pickle.dump(similar, open('similarity.pkl', 'wb'))\n",
        "pickle.dump(df, open('df.pkl', 'wb'))"
      ],
      "metadata": {
        "id": "QQFZJaSnAX_N"
      },
      "execution_count": null,
      "outputs": []
    }
  ]
}